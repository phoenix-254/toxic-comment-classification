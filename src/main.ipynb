{
 "cells": [
  {
   "cell_type": "code",
   "execution_count": 29,
   "metadata": {},
   "outputs": [
    {
     "name": "stderr",
     "output_type": "stream",
     "text": [
      "[nltk_data] Downloading package stopwords to\n",
      "[nltk_data]     C:\\Users\\shais\\AppData\\Roaming\\nltk_data...\n",
      "[nltk_data]   Package stopwords is already up-to-date!\n",
      "[nltk_data] Downloading package wordnet to\n",
      "[nltk_data]     C:\\Users\\shais\\AppData\\Roaming\\nltk_data...\n",
      "[nltk_data]   Package wordnet is already up-to-date!\n"
     ]
    }
   ],
   "source": [
    "# Import required libraries for this project.\n",
    "import string\n",
    "\n",
    "import nltk\n",
    "from nltk.corpus import stopwords\n",
    "nltk.download('stopwords')\n",
    "from nltk.stem import PorterStemmer, WordNetLemmatizer\n",
    "nltk.download('wordnet')\n",
    "\n",
    "from sklearn.feature_extraction.text import CountVectorizer\n",
    "\n",
    "from skmultilearn.problem_transform import ClassifierChain\n",
    "from skmultilearn.problem_transform import LabelPowerset\n",
    "from skmultilearn.problem_transform import BinaryRelevance\n",
    "\n",
    "from sklearn.naive_bayes import MultinomialNB\n",
    "from sklearn.naive_bayes import GaussianNB\n",
    "\n",
    "from sklearn.svm import SVC\n",
    "\n",
    "from skmultilearn.adapt import MLkNN\n",
    "\n",
    "from keras.models import Sequential\n",
    "from keras.layers import Dense, Activation, Dropout\n",
    "from keras.callbacks import ModelCheckpoint  \n",
    "\n",
    "from sklearn.metrics import hamming_loss\n",
    "from sklearn.metrics import accuracy_score\n",
    "from sklearn.metrics import log_loss\n",
    "\n",
    "import pandas as pd\n",
    "import numpy as np\n",
    "\n",
    "import matplotlib.pyplot as plt\n",
    "%matplotlib inline"
   ]
  },
  {
   "cell_type": "code",
   "execution_count": 41,
   "metadata": {},
   "outputs": [],
   "source": [
    "# Load data into pandas dataframes.\n",
    "TRAIN_DATA_PATH = '../data/train.csv'\n",
    "TEST_DATA_PATH = '../data/test.csv'\n",
    "TEST_LABELS_PATH = '../data/test_labels.csv'\n",
    "\n",
    "df_train = pd.read_csv(TRAIN_DATA_PATH)\n",
    "df_test = pd.read_csv(TEST_DATA_PATH)\n",
    "df_test_labels = pd.read_csv(TEST_LABELS_PATH)"
   ]
  },
  {
   "cell_type": "code",
   "execution_count": 42,
   "metadata": {},
   "outputs": [
    {
     "data": {
      "text/html": [
       "<div>\n",
       "<style scoped>\n",
       "    .dataframe tbody tr th:only-of-type {\n",
       "        vertical-align: middle;\n",
       "    }\n",
       "\n",
       "    .dataframe tbody tr th {\n",
       "        vertical-align: top;\n",
       "    }\n",
       "\n",
       "    .dataframe thead th {\n",
       "        text-align: right;\n",
       "    }\n",
       "</style>\n",
       "<table border=\"1\" class=\"dataframe\">\n",
       "  <thead>\n",
       "    <tr style=\"text-align: right;\">\n",
       "      <th></th>\n",
       "      <th>id</th>\n",
       "      <th>comment_text</th>\n",
       "      <th>toxic</th>\n",
       "      <th>severe_toxic</th>\n",
       "      <th>obscene</th>\n",
       "      <th>threat</th>\n",
       "      <th>insult</th>\n",
       "      <th>identity_hate</th>\n",
       "    </tr>\n",
       "  </thead>\n",
       "  <tbody>\n",
       "    <tr>\n",
       "      <th>0</th>\n",
       "      <td>0000997932d777bf</td>\n",
       "      <td>Explanation\\nWhy the edits made under my usern...</td>\n",
       "      <td>0</td>\n",
       "      <td>0</td>\n",
       "      <td>0</td>\n",
       "      <td>0</td>\n",
       "      <td>0</td>\n",
       "      <td>0</td>\n",
       "    </tr>\n",
       "    <tr>\n",
       "      <th>1</th>\n",
       "      <td>000103f0d9cfb60f</td>\n",
       "      <td>D'aww! He matches this background colour I'm s...</td>\n",
       "      <td>0</td>\n",
       "      <td>0</td>\n",
       "      <td>0</td>\n",
       "      <td>0</td>\n",
       "      <td>0</td>\n",
       "      <td>0</td>\n",
       "    </tr>\n",
       "    <tr>\n",
       "      <th>2</th>\n",
       "      <td>000113f07ec002fd</td>\n",
       "      <td>Hey man, I'm really not trying to edit war. It...</td>\n",
       "      <td>0</td>\n",
       "      <td>0</td>\n",
       "      <td>0</td>\n",
       "      <td>0</td>\n",
       "      <td>0</td>\n",
       "      <td>0</td>\n",
       "    </tr>\n",
       "    <tr>\n",
       "      <th>3</th>\n",
       "      <td>0001b41b1c6bb37e</td>\n",
       "      <td>\"\\nMore\\nI can't make any real suggestions on ...</td>\n",
       "      <td>0</td>\n",
       "      <td>0</td>\n",
       "      <td>0</td>\n",
       "      <td>0</td>\n",
       "      <td>0</td>\n",
       "      <td>0</td>\n",
       "    </tr>\n",
       "    <tr>\n",
       "      <th>4</th>\n",
       "      <td>0001d958c54c6e35</td>\n",
       "      <td>You, sir, are my hero. Any chance you remember...</td>\n",
       "      <td>0</td>\n",
       "      <td>0</td>\n",
       "      <td>0</td>\n",
       "      <td>0</td>\n",
       "      <td>0</td>\n",
       "      <td>0</td>\n",
       "    </tr>\n",
       "  </tbody>\n",
       "</table>\n",
       "</div>"
      ],
      "text/plain": [
       "                 id                                       comment_text  toxic  \\\n",
       "0  0000997932d777bf  Explanation\\nWhy the edits made under my usern...      0   \n",
       "1  000103f0d9cfb60f  D'aww! He matches this background colour I'm s...      0   \n",
       "2  000113f07ec002fd  Hey man, I'm really not trying to edit war. It...      0   \n",
       "3  0001b41b1c6bb37e  \"\\nMore\\nI can't make any real suggestions on ...      0   \n",
       "4  0001d958c54c6e35  You, sir, are my hero. Any chance you remember...      0   \n",
       "\n",
       "   severe_toxic  obscene  threat  insult  identity_hate  \n",
       "0             0        0       0       0              0  \n",
       "1             0        0       0       0              0  \n",
       "2             0        0       0       0              0  \n",
       "3             0        0       0       0              0  \n",
       "4             0        0       0       0              0  "
      ]
     },
     "execution_count": 42,
     "metadata": {},
     "output_type": "execute_result"
    }
   ],
   "source": [
    "# Printing first 5 rows of training data.\n",
    "df_train.head()"
   ]
  },
  {
   "cell_type": "code",
   "execution_count": 43,
   "metadata": {},
   "outputs": [],
   "source": [
    "# Getting all the ids having label value as -1 and removing them from the test data.\n",
    "ids_to_remove = (df_test_labels[df_test_labels.toxic == -1]).id\n",
    "df_test = df_test[~df_test['id'].isin(ids_to_remove)]\n",
    "df_test_labels = df_test_labels[~df_test_labels['id'].isin(ids_to_remove)]"
   ]
  },
  {
   "cell_type": "code",
   "execution_count": 44,
   "metadata": {},
   "outputs": [
    {
     "data": {
      "text/html": [
       "<div>\n",
       "<style scoped>\n",
       "    .dataframe tbody tr th:only-of-type {\n",
       "        vertical-align: middle;\n",
       "    }\n",
       "\n",
       "    .dataframe tbody tr th {\n",
       "        vertical-align: top;\n",
       "    }\n",
       "\n",
       "    .dataframe thead th {\n",
       "        text-align: right;\n",
       "    }\n",
       "</style>\n",
       "<table border=\"1\" class=\"dataframe\">\n",
       "  <thead>\n",
       "    <tr style=\"text-align: right;\">\n",
       "      <th></th>\n",
       "      <th>id</th>\n",
       "      <th>comment_text</th>\n",
       "    </tr>\n",
       "  </thead>\n",
       "  <tbody>\n",
       "    <tr>\n",
       "      <th>5</th>\n",
       "      <td>0001ea8717f6de06</td>\n",
       "      <td>Thank you for understanding. I think very high...</td>\n",
       "    </tr>\n",
       "    <tr>\n",
       "      <th>7</th>\n",
       "      <td>000247e83dcc1211</td>\n",
       "      <td>:Dear god this site is horrible.</td>\n",
       "    </tr>\n",
       "    <tr>\n",
       "      <th>11</th>\n",
       "      <td>0002f87b16116a7f</td>\n",
       "      <td>\"::: Somebody will invariably try to add Relig...</td>\n",
       "    </tr>\n",
       "    <tr>\n",
       "      <th>13</th>\n",
       "      <td>0003e1cccfd5a40a</td>\n",
       "      <td>\" \\n\\n It says it right there that it IS a typ...</td>\n",
       "    </tr>\n",
       "    <tr>\n",
       "      <th>14</th>\n",
       "      <td>00059ace3e3e9a53</td>\n",
       "      <td>\" \\n\\n == Before adding a new product to the l...</td>\n",
       "    </tr>\n",
       "  </tbody>\n",
       "</table>\n",
       "</div>"
      ],
      "text/plain": [
       "                  id                                       comment_text\n",
       "5   0001ea8717f6de06  Thank you for understanding. I think very high...\n",
       "7   000247e83dcc1211                   :Dear god this site is horrible.\n",
       "11  0002f87b16116a7f  \"::: Somebody will invariably try to add Relig...\n",
       "13  0003e1cccfd5a40a  \" \\n\\n It says it right there that it IS a typ...\n",
       "14  00059ace3e3e9a53  \" \\n\\n == Before adding a new product to the l..."
      ]
     },
     "execution_count": 44,
     "metadata": {},
     "output_type": "execute_result"
    }
   ],
   "source": [
    "df_test.head()"
   ]
  },
  {
   "cell_type": "code",
   "execution_count": 45,
   "metadata": {},
   "outputs": [
    {
     "data": {
      "text/html": [
       "<div>\n",
       "<style scoped>\n",
       "    .dataframe tbody tr th:only-of-type {\n",
       "        vertical-align: middle;\n",
       "    }\n",
       "\n",
       "    .dataframe tbody tr th {\n",
       "        vertical-align: top;\n",
       "    }\n",
       "\n",
       "    .dataframe thead th {\n",
       "        text-align: right;\n",
       "    }\n",
       "</style>\n",
       "<table border=\"1\" class=\"dataframe\">\n",
       "  <thead>\n",
       "    <tr style=\"text-align: right;\">\n",
       "      <th></th>\n",
       "      <th>id</th>\n",
       "      <th>toxic</th>\n",
       "      <th>severe_toxic</th>\n",
       "      <th>obscene</th>\n",
       "      <th>threat</th>\n",
       "      <th>insult</th>\n",
       "      <th>identity_hate</th>\n",
       "    </tr>\n",
       "  </thead>\n",
       "  <tbody>\n",
       "    <tr>\n",
       "      <th>5</th>\n",
       "      <td>0001ea8717f6de06</td>\n",
       "      <td>0</td>\n",
       "      <td>0</td>\n",
       "      <td>0</td>\n",
       "      <td>0</td>\n",
       "      <td>0</td>\n",
       "      <td>0</td>\n",
       "    </tr>\n",
       "    <tr>\n",
       "      <th>7</th>\n",
       "      <td>000247e83dcc1211</td>\n",
       "      <td>0</td>\n",
       "      <td>0</td>\n",
       "      <td>0</td>\n",
       "      <td>0</td>\n",
       "      <td>0</td>\n",
       "      <td>0</td>\n",
       "    </tr>\n",
       "    <tr>\n",
       "      <th>11</th>\n",
       "      <td>0002f87b16116a7f</td>\n",
       "      <td>0</td>\n",
       "      <td>0</td>\n",
       "      <td>0</td>\n",
       "      <td>0</td>\n",
       "      <td>0</td>\n",
       "      <td>0</td>\n",
       "    </tr>\n",
       "    <tr>\n",
       "      <th>13</th>\n",
       "      <td>0003e1cccfd5a40a</td>\n",
       "      <td>0</td>\n",
       "      <td>0</td>\n",
       "      <td>0</td>\n",
       "      <td>0</td>\n",
       "      <td>0</td>\n",
       "      <td>0</td>\n",
       "    </tr>\n",
       "    <tr>\n",
       "      <th>14</th>\n",
       "      <td>00059ace3e3e9a53</td>\n",
       "      <td>0</td>\n",
       "      <td>0</td>\n",
       "      <td>0</td>\n",
       "      <td>0</td>\n",
       "      <td>0</td>\n",
       "      <td>0</td>\n",
       "    </tr>\n",
       "  </tbody>\n",
       "</table>\n",
       "</div>"
      ],
      "text/plain": [
       "                  id  toxic  severe_toxic  obscene  threat  insult  \\\n",
       "5   0001ea8717f6de06      0             0        0       0       0   \n",
       "7   000247e83dcc1211      0             0        0       0       0   \n",
       "11  0002f87b16116a7f      0             0        0       0       0   \n",
       "13  0003e1cccfd5a40a      0             0        0       0       0   \n",
       "14  00059ace3e3e9a53      0             0        0       0       0   \n",
       "\n",
       "    identity_hate  \n",
       "5               0  \n",
       "7               0  \n",
       "11              0  \n",
       "13              0  \n",
       "14              0  "
      ]
     },
     "execution_count": 45,
     "metadata": {},
     "output_type": "execute_result"
    }
   ],
   "source": [
    "df_test_labels.head()"
   ]
  },
  {
   "cell_type": "code",
   "execution_count": 46,
   "metadata": {},
   "outputs": [
    {
     "data": {
      "image/png": "[encoded data removed]",
      "text/plain": [
       "<Figure size 432x288 with 1 Axes>"
      ]
     },
     "metadata": {
      "needs_background": "light"
     },
     "output_type": "display_data"
    }
   ],
   "source": [
    "# Plotting a frequency distribution graph.\n",
    "\n",
    "total = len(df_train)\n",
    "toxic_count = (df_train.toxic.values == 1).sum()\n",
    "severe_toxic_count = (df_train.severe_toxic.values == 1).sum()\n",
    "obscene_count = (df_train.obscene.values == 1).sum()\n",
    "threat_count = (df_train.threat.values == 1).sum()\n",
    "insult_count = (df_train.insult.values == 1).sum()\n",
    "identity_hate_count = (df_train.identity_hate.values == 1).sum()\n",
    "\n",
    "comment_classes = ('toxic', 'severe_toxic', 'obscene', 'threat', 'insult', 'identity_hate')\n",
    "y_pos = np.arange(len(comment_classes))\n",
    "\n",
    "plt.title(f'Frequency distribution - Total comments : {total}\\n')\n",
    "plt.ylabel('Number of comments') \n",
    "\n",
    "freq = [toxic_count,severe_toxic_count,obscene_count,threat_count,insult_count,identity_hate_count]\n",
    "\n",
    "plt.bar(y_pos, freq, align='center', color='#632EAE')\n",
    "plt.xticks(y_pos, comment_classes, rotation=90)\n",
    "\n",
    "plt.grid(False)\n",
    "plt.show()"
   ]
  },
  {
   "cell_type": "code",
   "execution_count": 47,
   "metadata": {},
   "outputs": [
    {
     "name": "stdout",
     "output_type": "stream",
     "text": [
      "Number of comments which belongs to one of the toxic class : 16225\n",
      "Number of comments which belongs to more than one toxic classes : 9865\n"
     ]
    }
   ],
   "source": [
    "# Getting info about the number of comments which are toxic and/or belongs to more than one toxicity level.\n",
    "c1,c2 = 0,0\n",
    "temp = df_train.loc[:, ['toxic', 'severe_toxic', 'obscene', 'threat', 'insult', 'identity_hate']]\n",
    "\n",
    "for tup in temp.itertuples(index=False):\n",
    "    c = np.count_nonzero(tup)\n",
    "    if c:\n",
    "        c1 = c1 + 1\n",
    "    if c > 1:\n",
    "        c2 = c2 + 1\n",
    "\n",
    "print(f'Number of comments which belongs to one of the toxic class : {c1}')\n",
    "print(f'Number of comments which belongs to more than one toxic classes : {c2}')"
   ]
  },
  {
   "cell_type": "code",
   "execution_count": 48,
   "metadata": {},
   "outputs": [
    {
     "name": "stdout",
     "output_type": "stream",
     "text": [
      "Average length of a comment : 394.0732213246768\n"
     ]
    },
    {
     "data": {
      "image/png": "[encoded data removed]",
      "text/plain": [
       "<Figure size 432x288 with 1 Axes>"
      ]
     },
     "metadata": {
      "needs_background": "light"
     },
     "output_type": "display_data"
    }
   ],
   "source": [
    "# Plotting a graph of comment length distribution.\n",
    "comments = df_train.loc[:, 'comment_text']\n",
    "\n",
    "len_arr = [len(comments[i]) for i in range(comments.shape[0])]\n",
    "\n",
    "avg_len = sum(len_arr) / len(len_arr)\n",
    "print(f'Average length of a comment : {avg_len}')\n",
    "\n",
    "bins = [1,250,500,750,1000,1250,1500,1750,2000]\n",
    "plt.hist(len_arr, bins=bins, rwidth=0.85, color='#632EAE')\n",
    "\n",
    "plt.title(f'Comment length distribution\\n')\n",
    "plt.xlabel('Length of comments')\n",
    "plt.ylabel('Number of comments')\n",
    "\n",
    "plt.axis([0, 2000, 0, 100000])\n",
    "\n",
    "plt.grid(False)\n",
    "plt.show()"
   ]
  },
  {
   "cell_type": "code",
   "execution_count": 49,
   "metadata": {},
   "outputs": [
    {
     "data": {
      "image/png": "[encoded data removed]",
      "text/plain": [
       "<Figure size 432x288 with 1 Axes>"
      ]
     },
     "metadata": {
      "needs_background": "light"
     },
     "output_type": "display_data"
    }
   ],
   "source": [
    "# Plotting a graph of comment length distribution by class.\n",
    "temp = df_train.loc[:, ['toxic', 'severe_toxic', 'obscene', 'threat', 'insult', 'identity_hate']]\n",
    "temp = temp.to_numpy()\n",
    "\n",
    "y = np.zeros(temp.shape)\n",
    "\n",
    "for i in range(comments.shape[0]):\n",
    "    cmt_len = len(comments[i])\n",
    "    # If toxic\n",
    "    if temp[i][0]:\n",
    "        y[i][0] = cmt_len\n",
    "    \n",
    "    # If severe_toxic\n",
    "    if temp[i][1]:\n",
    "        y[i][1] = cmt_len\n",
    "        \n",
    "    # If obscene\n",
    "    if temp[i][2]:\n",
    "        y[i][2] = cmt_len\n",
    "    \n",
    "    # If threat\n",
    "    if temp[i][3]:\n",
    "        y[i][3] = cmt_len\n",
    "        \n",
    "    # If insult\n",
    "    if temp[i][4]:\n",
    "        y[i][4] = cmt_len\n",
    "        \n",
    "    # If identity_hate\n",
    "    if temp[i][5]:\n",
    "        y[i][5] = cmt_len\n",
    "\n",
    "bins = [1,250,500,750,1000,1250,1500]\n",
    "colors = ['#00298F','#632EAE','#872DBB','#AB29C6','#CF1ECE','#F305D3']\n",
    "plt.hist(y, bins=bins, rwidth=0.9, label=comment_classes, color=colors)\n",
    "\n",
    "plt.title(f'Comment length distribution by class\\n')\n",
    "plt.xlabel('Length of comments')\n",
    "plt.ylabel('Number of comments')\n",
    "\n",
    "plt.legend()\n",
    "\n",
    "plt.axis([0, 1500, 0, 12000])\n",
    "\n",
    "plt.grid(False)\n",
    "plt.show()"
   ]
  },
  {
   "cell_type": "code",
   "execution_count": 50,
   "metadata": {},
   "outputs": [],
   "source": [
    "# Remove rows having length more than 500.\n",
    "df_train = df_train[df_train['comment_text'].map(len) <= 500]"
   ]
  },
  {
   "cell_type": "code",
   "execution_count": 51,
   "metadata": {},
   "outputs": [],
   "source": [
    "# Prepare for special characters removal.\n",
    "special_chars = string.punctuation.replace('\\'','') + \"0123456789\"\n",
    "space = \"                                         \"\n",
    "trans_table = str.maketrans(special_chars, space)"
   ]
  },
  {
   "cell_type": "code",
   "execution_count": 52,
   "metadata": {},
   "outputs": [],
   "source": [
    "# Prepare for stop words removal.\n",
    "stop_words = stopwords.words('english')\n",
    "stop_words.append('')\n",
    "\n",
    "for letter in range(ord('b'), ord('z') + 1):\n",
    "    stop_words.append(chr(letter))"
   ]
  },
  {
   "cell_type": "code",
   "execution_count": 53,
   "metadata": {},
   "outputs": [],
   "source": [
    "# Prepare for Stemming and Lemmatising\n",
    "stemmer = PorterStemmer()\n",
    "lemmatiser = WordNetLemmatizer()"
   ]
  },
  {
   "cell_type": "code",
   "execution_count": 60,
   "metadata": {},
   "outputs": [],
   "source": [
    "# Apply above prepared preprocessors.\n",
    "comments = df_train.loc[:, 'comment_text'].values\n",
    "\n",
    "for i in range(len(comments)):\n",
    "    comments[i] = comments[i].lower().translate(trans_table)\n",
    "    comment = []\n",
    "    for word in comments[i].split():\n",
    "        comment.append(stemmer.stem(lemmatiser.lemmatize(word, pos=\"v\")))\n",
    "    comments[i] = \" \".join(comment)"
   ]
  },
  {
   "cell_type": "code",
   "execution_count": null,
   "metadata": {},
   "outputs": [],
   "source": [
    "# Applying count vectorizer using the stop words created.\n",
    "cv = CountVectorizer(lowercase=False, stop_words=stop_words)\n",
    "\n",
    "# Convert comments into bag of words format\n",
    "tf = cv.fit_transform(comments).toarray()"
   ]
  },
  {
   "cell_type": "code",
   "execution_count": null,
   "metadata": {},
   "outputs": [],
   "source": [
    "# Labels\n",
    "labels = []\n",
    "\n",
    "temp_labels = df_train.loc[:, ['toxic', 'severe_toxic', 'obscene', 'threat', 'insult', 'identity_hate']]\n",
    "temp_labels = temp_labels.to_numpy()\n",
    "\n",
    "for i in range(comments.shape[0]):\n",
    "    labels.append(temp_labels[i])\n",
    "    \n",
    "labels = np.asarray(labels)"
   ]
  },
  {
   "cell_type": "code",
   "execution_count": null,
   "metadata": {},
   "outputs": [],
   "source": [
    "# Splitting the dataset into training and testing.\n",
    "def shuffle(mat, target, propotion):\n",
    "    ratio = int(mat.shape[0] / propotion)\n",
    "    \n",
    "    X_train = mat[ratio:, :]\n",
    "    X_test =  mat[:ratio, :]\n",
    "    \n",
    "    Y_train = target[ratio:, :]\n",
    "    Y_test =  target[:ratio, :]\n",
    "    \n",
    "    return X_train, X_test, Y_train, Y_test\n",
    "\n",
    "X_train, X_test, Y_train, Y_test = shuffle(tf, labels, 3)\n",
    "\n",
    "print(X_train.shape)\n",
    "print(X_test.shape)"
   ]
  },
  {
   "cell_type": "code",
   "execution_count": null,
   "metadata": {},
   "outputs": [],
   "source": [
    "# Evaluation.\n",
    "def evaluate(Y_test, predict):\n",
    "    h_loss = hamming_loss(Y_test, predict)\n",
    "    acc = accuracy_score(Y_test, predict)\n",
    "    try:\n",
    "        l_loss = log_loss(Y_test, predict)\n",
    "    except:\n",
    "        l_loss = log_loss(Y_test, predict.toarray())\n",
    "        \n",
    "    print(\"Hamming Loss = {}\".format(h_loss*100))\n",
    "    print(\"Log Loss = {}\".format(l_loss))\n",
    "    print(\"Accuracy = {}\".format(acc*100))"
   ]
  },
  {
   "cell_type": "code",
   "execution_count": null,
   "metadata": {},
   "outputs": [],
   "source": [
    "# Binary Relevance with Multinomial Naive Bayes.\n",
    "classifier = BinaryRelevance(classifier = MultinomialNB(), require_dense = [False, True])\n",
    "classifier.fit(X_train, Y_train)"
   ]
  },
  {
   "cell_type": "code",
   "execution_count": null,
   "metadata": {},
   "outputs": [],
   "source": [
    "# Prediction list.\n",
    "predictions = classifier.predict(X_test)"
   ]
  },
  {
   "cell_type": "code",
   "execution_count": 27,
   "metadata": {},
   "outputs": [
    {
     "name": "stdout",
     "output_type": "stream",
     "text": [
      "Hamming Loss = 3.27\n",
      "Log Loss = 1.92\n",
      "Accuracy = 88.291235214\n"
     ]
    }
   ],
   "source": [
    "# Results for Binary Relevance with Multinomial Naive Bayes.\n",
    "evaluate(Y_test, predictions)"
   ]
  },
  {
   "cell_type": "code",
   "execution_count": null,
   "metadata": {},
   "outputs": [],
   "source": [
    "# Binary Relevance with support vector machine classifier.\n",
    "classifier = BinaryRelevance(classifier = SVC(), require_dense = [False, True])\n",
    "classifier.fit(X_train, Y_train)"
   ]
  },
  {
   "cell_type": "code",
   "execution_count": null,
   "metadata": {},
   "outputs": [],
   "source": [
    "# Prediction list.\n",
    "predictions = classifier.predict(X_test)"
   ]
  },
  {
   "cell_type": "code",
   "execution_count": 26,
   "metadata": {},
   "outputs": [
    {
     "name": "stdout",
     "output_type": "stream",
     "text": [
      "Hamming Loss = 4.26\n",
      "Log Loss = 0.46\n",
      "Accuracy = 88.276325974\n"
     ]
    }
   ],
   "source": [
    "# Results for Binary Relevance with support vector machine classifier.\n",
    "evaluate(Y_test, predictions)"
   ]
  },
  {
   "cell_type": "code",
   "execution_count": null,
   "metadata": {},
   "outputs": [],
   "source": [
    "# Binary Relevance with Gaussean Naive Bayes.\n",
    "classifiers = []\n",
    "for i in range(6):\n",
    "    classifiers.append(GaussianNB())\n",
    "    classifiers[i].fit(X_train, Y_train[:, i])"
   ]
  },
  {
   "cell_type": "code",
   "execution_count": null,
   "metadata": {},
   "outputs": [],
   "source": [
    "# Prediction list.\n",
    "predictions = []\n",
    "for i in range(6):\n",
    "    predictions.append(classifiers[i].predict(X_test))\n",
    "    \n",
    "predictions = np.asarray(np.transpose(predictions))"
   ]
  },
  {
   "cell_type": "code",
   "execution_count": 24,
   "metadata": {},
   "outputs": [
    {
     "name": "stdout",
     "output_type": "stream",
     "text": [
      "Hamming Loss = 20.74\n",
      "Log Loss = 1.422\n",
      "Accuracy = 52.19\n"
     ]
    }
   ],
   "source": [
    "# Results for Binary Relevance with Gaussean Naive Bayes.\n",
    "evaluate(Y_test, predictions)"
   ]
  },
  {
   "cell_type": "code",
   "execution_count": null,
   "metadata": {},
   "outputs": [],
   "source": [
    "# Classifier chain with Multinomial Naive Bayes.\n",
    "classifier = ClassifierChain(MultinomialNB())\n",
    "classifier.fit(X_train, Y_train)"
   ]
  },
  {
   "cell_type": "code",
   "execution_count": null,
   "metadata": {},
   "outputs": [],
   "source": [
    "# Prediction list.\n",
    "predictions = classifier.predict(X_test)"
   ]
  },
  {
   "cell_type": "code",
   "execution_count": 23,
   "metadata": {},
   "outputs": [
    {
     "name": "stdout",
     "output_type": "stream",
     "text": [
      "Hamming Loss = 3.56\n",
      "Log Loss = 1.5\n",
      "Accuracy = 88.25951231\n"
     ]
    }
   ],
   "source": [
    "# Results for Classifier chain with Multinomial Naive Bayes.\n",
    "evaluate(Y_test, predictions)"
   ]
  },
  {
   "cell_type": "code",
   "execution_count": null,
   "metadata": {},
   "outputs": [],
   "source": [
    "# Label Powerset with Multinomial Naive Bayes.\n",
    "classifier = LabelPowerset(MultinomialNB())\n",
    "classifier.fit(X_train, Y_train)"
   ]
  },
  {
   "cell_type": "code",
   "execution_count": null,
   "metadata": {},
   "outputs": [],
   "source": [
    "# Prediction list.\n",
    "predictions = classifier.predict(X_test)"
   ]
  },
  {
   "cell_type": "code",
   "execution_count": 21,
   "metadata": {},
   "outputs": [
    {
     "name": "stdout",
     "output_type": "stream",
     "text": [
      "Hamming Loss = 3.17\n",
      "Log Loss = 1.47\n",
      "Accuracy = 88.802365412\n"
     ]
    }
   ],
   "source": [
    "# Results for Label Powerset with Multinomial Naive Bayes.\n",
    "evaluate(Y_test, predictions)"
   ]
  },
  {
   "cell_type": "code",
   "execution_count": null,
   "metadata": {},
   "outputs": [],
   "source": [
    "# ML-KNN\n",
    "classifier = MLkNN(k=2)\n",
    "classifier.fit(X_train, Y_train)"
   ]
  },
  {
   "cell_type": "code",
   "execution_count": null,
   "metadata": {},
   "outputs": [],
   "source": [
    "# Prediction list.\n",
    "predictions = classifier.predict(X_test)"
   ]
  },
  {
   "cell_type": "code",
   "execution_count": null,
   "metadata": {},
   "outputs": [],
   "source": [
    "# Results for Label Powerset with Multinomial Naive Bayes.\n",
    "evaluate(Y_test, predictions)"
   ]
  },
  {
   "cell_type": "code",
   "execution_count": null,
   "metadata": {},
   "outputs": [],
   "source": [
    "# BP-MLL Neural Networks\n",
    "\n",
    "# Define model architecture\n",
    "model = Sequential()\n",
    "model.add(Dense(4, activation='relu', input_dim = X_train.shape[1]))\n",
    "model.add(Dropout(0.3))\n",
    "model.add(Dense(6, activation='softmax'))\n",
    "model.summary()"
   ]
  },
  {
   "cell_type": "code",
   "execution_count": null,
   "metadata": {},
   "outputs": [],
   "source": [
    "# Compile model\n",
    "model.compile(optimizer='rmsprop', loss='categorical_crossentropy', metrics=['accuracy'])"
   ]
  },
  {
   "cell_type": "code",
   "execution_count": null,
   "metadata": {},
   "outputs": [],
   "source": [
    "# Train model using ModelCheckpoint.\n",
    "checkpoint = ModelCheckpoint(filepath='saved_models/weights.best.myneural.h5py', \n",
    "                               verbose=1, save_best_only=True)\n",
    "model.fit(X_train, Y_train, epochs=10, batch_size=32)"
   ]
  },
  {
   "cell_type": "code",
   "execution_count": null,
   "metadata": {},
   "outputs": [],
   "source": [
    "# Prediction list.\n",
    "predictions = model.predict(X_test)"
   ]
  },
  {
   "cell_type": "code",
   "execution_count": 19,
   "metadata": {},
   "outputs": [
    {
     "name": "stdout",
     "output_type": "stream",
     "text": [
      "Hamming Loss = 13.96\n",
      "Log Loss = 0.36\n",
      "Accuracy = 29.52\n"
     ]
    }
   ],
   "source": [
    "# Results\n",
    "l_loss = log_loss(Y_test, predictions)\n",
    "\n",
    "predictions = np.round(predictions)\n",
    "h_loss = hamming_loss(Y_test, predictions)\n",
    "\n",
    "acc = accuracy_score(Y_test, predictions)\n",
    "\n",
    "print(\"Hamming Loss = {}\".format(h_loss*100))\n",
    "print(\"Log Loss = {}\".format(l_loss))\n",
    "print(\"Accuracy = {}\".format(acc*100))"
   ]
  },
  {
   "cell_type": "code",
   "execution_count": 12,
   "metadata": {},
   "outputs": [
    {
     "data": {
      "image/png": "[encoded data removed]",
      "text/plain": [
       "<Figure size 432x288 with 1 Axes>"
      ]
     },
     "metadata": {
      "needs_background": "light"
     },
     "output_type": "display_data"
    }
   ],
   "source": [
    "# Hamming Loss Comparison.\n",
    "models = ['BR-MultiNB', 'BR-SVC', 'BR-GausseanNB', 'CC-MultiNB', 'LP-MiltiNB', 'BP-MLL']\n",
    "h_loss_arr = [3.27, 4.26, 20.74, 3.56, 3.17, 13.96]\n",
    "\n",
    "col = ['#00298F','#632EAE','#872DBB','#AB29C6','#CF1ECE','#F305D3']\n",
    "\n",
    "plt.title(f'Hamming Loss Comparison\\n')\n",
    "plt.ylabel('Hamming Loss')\n",
    "# plt.xlabel('Models')\n",
    "\n",
    "plt.xticks(rotation=90)\n",
    "\n",
    "for i in range(len(h_loss_arr)):\n",
    "    plt.bar(models[i], h_loss_arr[i], color=col[i])\n",
    "\n",
    "plt.show()"
   ]
  },
  {
   "cell_type": "code",
   "execution_count": 13,
   "metadata": {},
   "outputs": [
    {
     "data": {
      "image/png": "[encoded data removed]",
      "text/plain": [
       "<Figure size 432x288 with 1 Axes>"
      ]
     },
     "metadata": {
      "needs_background": "light"
     },
     "output_type": "display_data"
    }
   ],
   "source": [
    "# Log Loss Comparison.\n",
    "models = ['BR-MultiNB', 'BR-SVC', 'BR-GausseanNB', 'CC-MultiNB', 'LP-MiltiNB', 'BP-MLL']\n",
    "h_loss_arr = [1.92, 0.46, 1.422, 1.5, 1.47, 0.36]\n",
    "\n",
    "col = ['#00298F','#632EAE','#872DBB','#AB29C6','#CF1ECE','#F305D3']\n",
    "\n",
    "plt.title(f'Log Loss Comparison\\n')\n",
    "plt.ylabel('Log Loss')\n",
    "# plt.xlabel('Models')\n",
    "\n",
    "plt.xticks(rotation=90)\n",
    "\n",
    "for i in range(len(h_loss_arr)):\n",
    "    plt.bar(models[i], h_loss_arr[i], color=col[i])\n",
    "\n",
    "plt.show()"
   ]
  },
  {
   "cell_type": "code",
   "execution_count": 15,
   "metadata": {},
   "outputs": [
    {
     "data": {
      "image/png": "[encoded data removed]",
      "text/plain": [
       "<Figure size 432x288 with 1 Axes>"
      ]
     },
     "metadata": {
      "needs_background": "light"
     },
     "output_type": "display_data"
    }
   ],
   "source": [
    "# Accuracy Comparison.\n",
    "models = ['BR-MultiNB', 'BR-SVC', 'BR-GausseanNB', 'CC-MultiNB', 'LP-MiltiNB', 'BP-MLL']\n",
    "h_loss_arr = [88.29, 88.27, 52.19, 88.25, 88.80, 29.52]\n",
    "\n",
    "col = ['#00298F','#632EAE','#872DBB','#AB29C6','#CF1ECE','#F305D3']\n",
    "\n",
    "plt.title(f'Accuracy Comparison\\n')\n",
    "plt.ylabel('Accuracy')\n",
    "# plt.xlabel('Models')\n",
    "\n",
    "plt.xticks(rotation=90)\n",
    "\n",
    "for i in range(len(h_loss_arr)):\n",
    "    plt.bar(models[i], h_loss_arr[i], color=col[i])\n",
    "\n",
    "plt.show()"
   ]
  },
  {
   "cell_type": "code",
   "execution_count": null,
   "metadata": {},
   "outputs": [],
   "source": []
  }
 ],
 "metadata": {
  "kernelspec": {
   "display_name": "Python 3",
   "language": "python",
   "name": "python3"
  },
  "language_info": {
   "codemirror_mode": {
    "name": "ipython",
    "version": 3
   },
   "file_extension": ".py",
   "mimetype": "text/x-python",
   "name": "python",
   "nbconvert_exporter": "python",
   "pygments_lexer": "ipython3",
   "version": "3.7.6"
  }
 },
 "nbformat": 4,
 "nbformat_minor": 4
}
